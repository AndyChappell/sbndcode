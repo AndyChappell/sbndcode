{
 "cells": [
  {
   "cell_type": "markdown",
   "metadata": {},
   "source": [
    "# Track reconstruction validation\n",
    "\n",
    "## In this notebook we are going to take the ROOT file produced by the validatetracksjob.fcl and make some plots!\n",
    "\n",
    "Lets start by importing the relevant libraries"
   ]
  },
  {
   "cell_type": "code",
   "execution_count": 1,
   "metadata": {},
   "outputs": [],
   "source": [
    "import pandas as pd\n",
    "import uproot\n",
    "import awkward\n",
    "import matplotlib.pyplot as plt"
   ]
  },
  {
   "cell_type": "markdown",
   "metadata": {},
   "source": [
    "Now, open the file we wish to collect the data from."
   ]
  },
  {
   "cell_type": "code",
   "execution_count": 2,
   "metadata": {},
   "outputs": [
    {
     "name": "stdout",
     "output_type": "stream",
     "text": [
      "Tree name: b'tree'\n",
      "Tree title: b'Analysis Output Tree'\n",
      "Number of entries: 84\n"
     ]
    }
   ],
   "source": [
    "file = uproot.open('validationOutput.root')\n",
    "\n",
    "directory = file['ana']\n",
    "tree = directory['tree']\n",
    "print('Tree name:', tree.name)\n",
    "print('Tree title:', tree.title)\n",
    "print('Number of entries:', tree.numentries)"
   ]
  },
  {
   "cell_type": "markdown",
   "metadata": {},
   "source": [
    "Another way to access the tree would be tree = file['ana']['tree'].\n",
    "\n",
    "Once the tree has been identified, we can access its keys, or variables. However, the size of those variables aren't all the same."
   ]
  },
  {
   "cell_type": "code",
   "execution_count": 3,
   "metadata": {
    "collapsed": true,
    "jupyter": {
     "outputs_hidden": true
    }
   },
   "outputs": [
    {
     "data": {
      "text/plain": [
       "{b'eventID': array([  1,   2,   3,   4,   5,   6,   7,   8,   9,  10,  11,  12,  13,\n",
       "         14,  15,  17,  18,  19,  22,  23,  24,  26,  27,  30,  31,  32,\n",
       "         33,  34,  35,  36,  39,  40,  41,  42,  43,  44,  45,  46,  48,\n",
       "         49,  50,  51,  52,  53,  54,  55,  56,  57,  58,  59,  60,  62,\n",
       "         63,  65,  66,  68,  69,  70,  71,  73,  74,  76,  77,  78,  79,\n",
       "         81,  82,  83,  85,  86,  87,  88,  89,  90,  91,  92,  93,  94,\n",
       "         95,  96,  97,  98,  99, 100], dtype=uint32),\n",
       " b'nPFParticles': array([ 5,  3,  2,  3,  6,  3,  4,  4, 12,  3,  3,  3,  2,  4,  4,  5,  4,\n",
       "         3,  3,  3,  4,  3,  3,  6,  7,  3,  4,  4,  3,  3,  4,  4,  3,  2,\n",
       "         2,  8,  3,  2,  3,  2,  3,  4,  2,  4,  4,  7,  3,  4,  2,  5,  6,\n",
       "         2,  3,  2,  4,  4,  3,  4,  5,  2,  2,  4,  3,  4,  4,  4,  6,  2,\n",
       "         5,  3,  3,  4,  3,  2,  2,  2,  4,  2,  5,  3,  2,  3,  5,  4],\n",
       "       dtype=uint32),\n",
       " b'isPrimary': <JaggedArray [[False False False False True] [False False True] [False True] ... [False False True] [False False False False True] [False False False True]] at 0x00011d57a3d0>,\n",
       " b'nDaughters': <JaggedArray [[0 0 0 0 4] [1 0 1] [0 1] ... [0 0 2] [0 0 0 0 4] [0 0 1 2]] at 0x00011d57ac10>,\n",
       " b'particleID': <JaggedArray [[0 1 2 3 4] [0 1 2] [0 1] ... [0 1 2] [0 1 2 3 4] [0 1 2 3]] at 0x00011d576e90>,\n",
       " b'particlePDG': <JaggedArray [[11 13 13 11 12] [13 11 14] [13 14] ... [13 11 14] [13 13 11 11 14] [13 11 11 12]] at 0x00011d57b050>,\n",
       " b'Lengths': <JaggedArray [[46.78872 25.828798] [16.13307] [6.8328185] ... [16.04804] [38.751694 18.532564] [113.37785]] at 0x00011d57b1d0>,\n",
       " b'ValidPoints': <JaggedArray [[176.0 156.0] [99.0] [43.0] ... [66.0] [257.0 100.0] [962.0]] at 0x00011d57b350>,\n",
       " b'StartDirPhi': <JaggedArray [[-0.11911233 2.7008083] [1.2351865] [2.4097767] ... [2.6452205] [0.4848057 -2.364728] [-1.4158423]] at 0x00011d57b410>,\n",
       " b'StartDirZ': <JaggedArray [[0.75512373 0.8953484] [0.10920649] [0.8633765] ... [-0.37591648] [0.94182944 0.42205998] [0.7586244]] at 0x00011d57b3d0>,\n",
       " b'StartDirMag': <JaggedArray [[0.99999994 0.99999994] [1.0] [1.0000001] ... [1.0000001] [1.0000001 0.99999994] [0.99999994]] at 0x00011d57b390>,\n",
       " b'StartX': <JaggedArray [[-180.33942 -181.30333] [148.98648] [67.46839] ... [100.33128] [-79.76873 -80.04479] [15.460281]] at 0x00011d57b310>,\n",
       " b'StartY': <JaggedArray [[80.0566 81.86786] [144.03868] [-199.6801] ... [-121.9194] [-188.01895 -187.96637] [-36.51402]] at 0x00011d57b190>,\n",
       " b'StartZ': <JaggedArray [[475.30435 476.8262] [226.94334] [29.7986] ... [217.91476] [154.49791 153.43466] [45.338383]] at 0x00011d57b0d0>,\n",
       " b'EndX': <JaggedArray [[-143.49002 -191.37592] [154.61002] [64.88822] ... [87.14599] [-69.117485 -91.67768] [26.84482]] at 0x00011d57b250>,\n",
       " b'EndY': <JaggedArray [[65.63044 86.610855] [159.01628] [-197.3569] ... [-114.72995] [-182.79745 -200.10872] [-95.15594]] at 0x00011d57b450>,\n",
       " b'EndZ': <JaggedArray [[499.6893 500.13013] [228.99007] [35.683353] ... [212.26315] [191.37169 161.21713] [132.85097]] at 0x00011d57b2d0>}"
      ]
     },
     "execution_count": 3,
     "metadata": {},
     "output_type": "execute_result"
    }
   ],
   "source": [
    "tree.keys()\n",
    "tree.arrays()"
   ]
  },
  {
   "cell_type": "markdown",
   "metadata": {},
   "source": [
    "This array is a dictionary with annoying 'b' (byte) at the front. We can remove this by defining the branches as follow"
   ]
  },
  {
   "cell_type": "code",
   "execution_count": 4,
   "metadata": {},
   "outputs": [
    {
     "data": {
      "text/plain": [
       "dict_keys(['eventID', 'nPFParticles', 'isPrimary', 'nDaughters', 'particleID', 'particlePDG', 'Lengths', 'ValidPoints', 'StartDirPhi', 'StartDirZ', 'StartDirMag', 'StartX', 'StartY', 'StartZ', 'EndX', 'EndY', 'EndZ'])"
      ]
     },
     "execution_count": 4,
     "metadata": {},
     "output_type": "execute_result"
    }
   ],
   "source": [
    "branches = tree.arrays(namedecode='utf-8')\n",
    "branches.keys()"
   ]
  },
  {
   "cell_type": "code",
   "execution_count": 5,
   "metadata": {},
   "outputs": [
    {
     "name": "stdout",
     "output_type": "stream",
     "text": [
      "eventID branch type: <class 'numpy.ndarray'>\n",
      "StartY branch type: <class 'awkward.array.jagged.JaggedArray'>\n"
     ]
    },
    {
     "data": {
      "text/plain": [
       "<JaggedArray [[80.0566 81.86786] [144.03868] [-199.6801] ... [-121.9194] [-188.01895 -187.96637] [-36.51402]] at 0x00011d592e90>"
      ]
     },
     "execution_count": 5,
     "metadata": {},
     "output_type": "execute_result"
    }
   ],
   "source": [
    "print('eventID branch type:', type(branches['eventID']))\n",
    "print('StartY branch type:', type(branches['StartY']))\n",
    "branches['StartY']"
   ]
  },
  {
   "cell_type": "markdown",
   "metadata": {},
   "source": [
    "The eventID branch is a simple numpy array. However, StartY is of another special kind: a jagged array. This is because the number of entries is different for different events.\n",
    "We can look at them anyway! Note that there are square brackets [] surrounding the list of entries for each event. This is basically an array of arrays, or a 2D array. So we can look at the values for the collection of PFParticles of a particular event."
   ]
  },
  {
   "cell_type": "code",
   "execution_count": 6,
   "metadata": {},
   "outputs": [
    {
     "name": "stdout",
     "output_type": "stream",
     "text": [
      "[80.0566  81.86786]\n",
      "[144.03868]\n",
      "[-199.6801]\n",
      "[84.88349  84.823135]\n",
      "[144.36487 162.59413 144.30197 145.04634]\n",
      "[200.03487]\n",
      "[-47.162586]\n",
      "[-122.69484  -124.106544]\n",
      "[123.516205 120.42123  120.727196 122.99127  106.68404 ]\n",
      "[-141.14005]\n"
     ]
    }
   ],
   "source": [
    "for i in range(10):\n",
    "    print(branches['StartY'][i])"
   ]
  },
  {
   "cell_type": "markdown",
   "metadata": {},
   "source": [
    "The branches object that is not convenient for getting information from all branches at once for one particular event. We can get this functionality with a Table. Table is a class in the awkward package that uproot uses to handle jagged arrays. We can create a Table from our branches object:"
   ]
  },
  {
   "cell_type": "code",
   "execution_count": 7,
   "metadata": {},
   "outputs": [
    {
     "name": "stdout",
     "output_type": "stream",
     "text": [
      "[79.36575]\n"
     ]
    }
   ],
   "source": [
    "table = awkward.Table(branches)\n",
    "print(table[5]['StartX'])"
   ]
  },
  {
   "cell_type": "markdown",
   "metadata": {},
   "source": [
    "Now a given event we can see all the PFParticles' information at once for, say, the first event:"
   ]
  },
  {
   "cell_type": "code",
   "execution_count": 8,
   "metadata": {},
   "outputs": [
    {
     "name": "stdout",
     "output_type": "stream",
     "text": [
      "eventID = 1\n",
      "nPFParticles = 5\n",
      "isPrimary = [False False False False  True]\n",
      "nDaughters = [0 0 0 0 4]\n",
      "particleID = [0 1 2 3 4]\n",
      "particlePDG = [11 13 13 11 12]\n",
      "Lengths = [46.78872  25.828798]\n",
      "ValidPoints = [176. 156.]\n",
      "StartDirPhi = [-0.11911233  2.7008083 ]\n",
      "StartDirZ = [0.75512373 0.8953484 ]\n",
      "StartDirMag = [0.99999994 0.99999994]\n",
      "StartX = [-180.33942 -181.30333]\n",
      "StartY = [80.0566  81.86786]\n",
      "StartZ = [475.30435 476.8262 ]\n",
      "EndX = [-143.49002 -191.37592]\n",
      "EndY = [65.63044  86.610855]\n",
      "EndZ = [499.6893  500.13013]\n"
     ]
    }
   ],
   "source": [
    "for column_name in table[0]:\n",
    "    print(column_name, '=', table[0][column_name])"
   ]
  },
  {
   "cell_type": "markdown",
   "metadata": {},
   "source": [
    "## Let's actually plot something\n",
    "\n",
    "### Numpy arrays\n",
    "You will notice that plotting standard arrays is quite straight forward:"
   ]
  },
  {
   "cell_type": "code",
   "execution_count": 9,
   "metadata": {},
   "outputs": [
    {
     "data": {
      "image/png": "[encoded data removed]",
      "text/plain": [
       "<Figure size 432x288 with 1 Axes>"
      ]
     },
     "metadata": {
      "needs_background": "light"
     },
     "output_type": "display_data"
    }
   ],
   "source": [
    "plt.hist(branches['nPFParticles'])\n",
    "plt.xlabel('Number of PFParticles in event')\n",
    "plt.ylabel('Number of events')\n",
    "plt.show()"
   ]
  },
  {
   "cell_type": "markdown",
   "metadata": {},
   "source": [
    "So straight forward that we didn't really have to go through all the hasle above as we could have simply declared a data frame:"
   ]
  },
  {
   "cell_type": "code",
   "execution_count": 10,
   "metadata": {},
   "outputs": [
    {
     "data": {
      "text/plain": [
       "<AxesSubplot:ylabel='Frequency'>"
      ]
     },
     "execution_count": 10,
     "metadata": {},
     "output_type": "execute_result"
    },
    {
     "data": {
      "image/png": "[encoded data removed]",
      "text/plain": [
       "<Figure size 432x288 with 1 Axes>"
      ]
     },
     "metadata": {
      "needs_background": "light"
     },
     "output_type": "display_data"
    }
   ],
   "source": [
    "df_reco = file['ana']['tree'].pandas.df('*', flatten=False)\n",
    "#print(df_reco)\n",
    "df_reco['nPFParticles'].plot.hist()"
   ]
  },
  {
   "cell_type": "markdown",
   "metadata": {},
   "source": [
    "However, neither the branch or the data frame offer a solution for plotting all the PFParticle information. For instance, you'd get an error if you tried doing df_reco['Lenghts'].plot.hist()\n",
    "\n",
    "### Jagged arrays\n",
    "\n",
    "As matplot expects 1D arrays, we'd need to flatten the jagged 2D array into a 1D array. Simply add .flatten() to the branch array:"
   ]
  },
  {
   "cell_type": "code",
   "execution_count": 11,
   "metadata": {},
   "outputs": [
    {
     "data": {
      "image/png": "[encoded data removed]",
      "text/plain": [
       "<Figure size 432x288 with 1 Axes>"
      ]
     },
     "metadata": {
      "needs_background": "light"
     },
     "output_type": "display_data"
    }
   ],
   "source": [
    "plt.hist(branches['StartY'].flatten())\n",
    "plt.xlabel('Start position in the Y coordinate')\n",
    "plt.ylabel('Number of PFParticles')\n",
    "plt.show()"
   ]
  },
  {
   "cell_type": "markdown",
   "metadata": {},
   "source": [
    "## Counting entries\n",
    "\n",
    "All of the following should coincide"
   ]
  },
  {
   "cell_type": "code",
   "execution_count": 12,
   "metadata": {},
   "outputs": [
    {
     "name": "stdout",
     "output_type": "stream",
     "text": [
      "number of events from\n",
      "len(tree):  84\n",
      "len(table):  84\n",
      "len(branches['nPFParticles']):  84\n",
      "len(branches['StartY']):  84\n"
     ]
    }
   ],
   "source": [
    "print('number of events from')\n",
    "print('len(tree): ', len(tree))\n",
    "print('len(table): ', len(table))\n",
    "print('len(branches[\\'nPFParticles\\']): ', len(branches['nPFParticles']))\n",
    "print('len(branches[\\'StartY\\']): ', len(branches['StartY']))"
   ]
  },
  {
   "cell_type": "markdown",
   "metadata": {},
   "source": [
    "This is not the total number of PFParticles nor the total number of tracks. If we want those variables:"
   ]
  },
  {
   "cell_type": "code",
   "execution_count": 13,
   "metadata": {},
   "outputs": [
    {
     "name": "stdout",
     "output_type": "stream",
     "text": [
      "number or pfparticles: 306\n",
      "number of tracks: 122\n"
     ]
    }
   ],
   "source": [
    "print('number or pfparticles:', sum(branches['nPFParticles']))\n",
    "print('number of tracks:', len(branches['StartY'].flatten())) # or any other branch"
   ]
  },
  {
   "cell_type": "markdown",
   "metadata": {},
   "source": [
    "Note that the number of PFParticles is not the same as tracks. This is because they were either reconstructed as showers or not reconstructed at all."
   ]
  },
  {
   "cell_type": "markdown",
   "metadata": {},
   "source": [
    "## Selection"
   ]
  },
  {
   "cell_type": "markdown",
   "metadata": {},
   "source": [
    "Say we want to only select the events or PFParticles that fullfill certain criteria. For example, select all the events that have at least one PFParticle. The way we define we do this is by defining a dataframe:"
   ]
  },
  {
   "cell_type": "code",
   "execution_count": 14,
   "metadata": {},
   "outputs": [
    {
     "data": {
      "text/plain": [
       "array([ True,  True,  True,  True,  True,  True,  True,  True,  True,\n",
       "        True,  True,  True,  True,  True,  True,  True,  True,  True,\n",
       "        True,  True,  True,  True,  True,  True,  True,  True,  True,\n",
       "        True,  True,  True,  True,  True,  True,  True,  True,  True,\n",
       "        True,  True,  True,  True,  True,  True,  True,  True,  True,\n",
       "        True,  True,  True,  True,  True,  True,  True,  True,  True,\n",
       "        True,  True,  True,  True,  True,  True,  True,  True,  True,\n",
       "        True,  True,  True,  True,  True,  True,  True,  True,  True,\n",
       "        True,  True,  True,  True,  True,  True,  True,  True,  True,\n",
       "        True,  True,  True])"
      ]
     },
     "execution_count": 14,
     "metadata": {},
     "output_type": "execute_result"
    }
   ],
   "source": [
    "branches['nPFParticles'] >= 1"
   ]
  },
  {
   "cell_type": "code",
   "execution_count": 15,
   "metadata": {},
   "outputs": [
    {
     "data": {
      "text/plain": [
       "84"
      ]
     },
     "execution_count": 15,
     "metadata": {},
     "output_type": "execute_result"
    }
   ],
   "source": [
    "pfparticles_sel = branches['nPFParticles'] > 1\n",
    "pfparticles_sel.sum() # summing the events passing the selection"
   ]
  },
  {
   "cell_type": "markdown",
   "metadata": {},
   "source": [
    "We can see that all the events have at least one PFParticle. That's not that interesting so let's try something else. I want to know which tracks are longer than 50 cm:"
   ]
  },
  {
   "cell_type": "code",
   "execution_count": 16,
   "metadata": {},
   "outputs": [
    {
     "name": "stdout",
     "output_type": "stream",
     "text": [
      "[[False False] [False] [False] ... [False] [False False] [True]]\n"
     ]
    },
    {
     "data": {
      "text/plain": [
       "array([0, 0, 0, 1, 2, 1, 0, 0, 2, 0, 1, 1, 1, 0, 1, 0, 1, 0, 1, 1, 1, 1,\n",
       "       1, 0, 1, 0, 2, 1, 1, 1, 0, 1, 0, 0, 0, 0, 0, 0, 1, 0, 0, 1, 1, 1,\n",
       "       1, 1, 0, 0, 0, 2, 1, 0, 1, 1, 0, 0, 1, 1, 1, 0, 0, 2, 1, 1, 1, 1,\n",
       "       1, 1, 0, 1, 1, 1, 1, 1, 0, 0, 0, 1, 2, 1, 1, 0, 0, 1])"
      ]
     },
     "execution_count": 16,
     "metadata": {},
     "output_type": "execute_result"
    }
   ],
   "source": [
    "longtracks_sel = branches['Lengths'] > 50\n",
    "print(longtracks_sel)\n",
    "longtracks_sel.sum()"
   ]
  },
  {
   "cell_type": "markdown",
   "metadata": {},
   "source": [
    "So only 56 out of the 122 tracks are longer than 50 cm. We can now use this selection and apply it to our data. For example, if I want the the start position in the Y direction of those long tracks:"
   ]
  },
  {
   "cell_type": "code",
   "execution_count": 17,
   "metadata": {},
   "outputs": [
    {
     "data": {
      "image/png": "[encoded data removed]",
      "text/plain": [
       "<Figure size 432x288 with 1 Axes>"
      ]
     },
     "metadata": {
      "needs_background": "light"
     },
     "output_type": "display_data"
    }
   ],
   "source": [
    "longtracks_starty = branches['StartY'][longtracks_sel]\n",
    "plt.hist(longtracks_starty.flatten())\n",
    "plt.xlabel('Start position in the Y coordinate (cm)')\n",
    "plt.ylabel('Number of PFParticles')\n",
    "plt.show()"
   ]
  },
  {
   "cell_type": "markdown",
   "metadata": {},
   "source": [
    "That plot surely looks different from the one we created above. Another way to check if we did everything right is by directly looking at the length distribution when using this selection. We should only see lenghts greater than 50 cm plotted:"
   ]
  },
  {
   "cell_type": "code",
   "execution_count": 18,
   "metadata": {},
   "outputs": [
    {
     "data": {
      "image/png": "[encoded data removed]",
      "text/plain": [
       "<Figure size 432x288 with 1 Axes>"
      ]
     },
     "metadata": {
      "needs_background": "light"
     },
     "output_type": "display_data"
    }
   ],
   "source": [
    "longtracks = branches['Lengths'][longtracks_sel]\n",
    "plt.hist(longtracks.flatten())\n",
    "plt.xlabel('Start position in the Y coordinate for long tracks')\n",
    "plt.ylabel('Number of PFParticles')\n",
    "plt.show()"
   ]
  }
 ],
 "metadata": {
  "kernelspec": {
   "display_name": "Python 3",
   "language": "python",
   "name": "python3"
  },
  "language_info": {
   "codemirror_mode": {
    "name": "ipython",
    "version": 3
   },
   "file_extension": ".py",
   "mimetype": "text/x-python",
   "name": "python",
   "nbconvert_exporter": "python",
   "pygments_lexer": "ipython3",
   "version": "3.7.6"
  }
 },
 "nbformat": 4,
 "nbformat_minor": 4
}
