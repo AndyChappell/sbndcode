{
 "cells": [
  {
   "cell_type": "markdown",
   "metadata": {},
   "source": [
    "# Track reconstruction validation\n",
    "\n",
    "## In this notebook we are going to take the ROOT file produced by the validatetracksjob.fcl and make some plots!\n",
    "\n",
    "Lets start by importing the relevant libraries"
   ]
  },
  {
   "cell_type": "code",
   "execution_count": 1,
   "metadata": {},
   "outputs": [],
   "source": [
    "import pandas as pd\n",
    "import uproot\n",
    "import awkward\n",
    "import matplotlib.pyplot as plt"
   ]
  },
  {
   "cell_type": "markdown",
   "metadata": {},
   "source": [
    "Now, open the file we wish to collect the data from."
   ]
  },
  {
   "cell_type": "code",
   "execution_count": 2,
   "metadata": {},
   "outputs": [
    {
     "name": "stdout",
     "output_type": "stream",
     "text": [
      "Tree name: b'tree'\n",
      "Tree title: b'Analysis Output Tree'\n",
      "Number of entries: 84\n"
     ]
    }
   ],
   "source": [
    "file = uproot.open('validationOutput.root')\n",
    "\n",
    "directory = file['ana']\n",
    "tree = directory['tree']\n",
    "print('Tree name:', tree.name)\n",
    "print('Tree title:', tree.title)\n",
    "print('Number of entries:', tree.numentries)"
   ]
  },
  {
   "cell_type": "markdown",
   "metadata": {},
   "source": [
    "Another way to access the tree would be tree = file['ana']['tree'].\n",
    "\n",
    "Once the tree has been identified, we can access its keys, or variables. However, the size of those variables aren't all the same."
   ]
  },
  {
   "cell_type": "code",
   "execution_count": 3,
   "metadata": {
    "collapsed": true,
    "jupyter": {
     "outputs_hidden": true
    }
   },
   "outputs": [
    {
     "data": {
      "text/plain": [
       "{b'eventID': array([1.40e-45, 2.80e-45, 4.20e-45, 5.61e-45, 7.01e-45, 8.41e-45,\n",
       "        9.81e-45, 1.12e-44, 1.26e-44, 1.40e-44, 1.54e-44, 1.68e-44,\n",
       "        1.82e-44, 1.96e-44, 2.10e-44, 2.38e-44, 2.52e-44, 2.66e-44,\n",
       "        3.08e-44, 3.22e-44, 3.36e-44, 3.64e-44, 3.78e-44, 4.20e-44,\n",
       "        4.34e-44, 4.48e-44, 4.62e-44, 4.76e-44, 4.90e-44, 5.04e-44,\n",
       "        5.47e-44, 5.61e-44, 5.75e-44, 5.89e-44, 6.03e-44, 6.17e-44,\n",
       "        6.31e-44, 6.45e-44, 6.73e-44, 6.87e-44, 7.01e-44, 7.15e-44,\n",
       "        7.29e-44, 7.43e-44, 7.57e-44, 7.71e-44, 7.85e-44, 7.99e-44,\n",
       "        8.13e-44, 8.27e-44, 8.41e-44, 8.69e-44, 8.83e-44, 9.11e-44,\n",
       "        9.25e-44, 9.53e-44, 9.67e-44, 9.81e-44, 9.95e-44, 1.02e-43,\n",
       "        1.04e-43, 1.06e-43, 1.08e-43, 1.09e-43, 1.11e-43, 1.14e-43,\n",
       "        1.15e-43, 1.16e-43, 1.19e-43, 1.21e-43, 1.22e-43, 1.23e-43,\n",
       "        1.25e-43, 1.26e-43, 1.28e-43, 1.29e-43, 1.30e-43, 1.32e-43,\n",
       "        1.33e-43, 1.35e-43, 1.36e-43, 1.37e-43, 1.39e-43, 1.40e-43],\n",
       "       dtype=float32),\n",
       " b'nPFParticles': array([7.0e-45, 4.2e-45, 2.8e-45, 4.2e-45, 8.4e-45, 4.2e-45, 5.6e-45,\n",
       "        5.6e-45, 1.7e-44, 4.2e-45, 4.2e-45, 4.2e-45, 2.8e-45, 5.6e-45,\n",
       "        5.6e-45, 7.0e-45, 5.6e-45, 4.2e-45, 4.2e-45, 4.2e-45, 5.6e-45,\n",
       "        4.2e-45, 4.2e-45, 8.4e-45, 9.8e-45, 4.2e-45, 5.6e-45, 5.6e-45,\n",
       "        4.2e-45, 4.2e-45, 5.6e-45, 5.6e-45, 4.2e-45, 2.8e-45, 2.8e-45,\n",
       "        1.1e-44, 4.2e-45, 2.8e-45, 4.2e-45, 2.8e-45, 4.2e-45, 5.6e-45,\n",
       "        2.8e-45, 5.6e-45, 5.6e-45, 9.8e-45, 4.2e-45, 5.6e-45, 2.8e-45,\n",
       "        7.0e-45, 8.4e-45, 2.8e-45, 4.2e-45, 2.8e-45, 5.6e-45, 5.6e-45,\n",
       "        4.2e-45, 5.6e-45, 7.0e-45, 2.8e-45, 2.8e-45, 5.6e-45, 4.2e-45,\n",
       "        5.6e-45, 5.6e-45, 5.6e-45, 8.4e-45, 2.8e-45, 7.0e-45, 4.2e-45,\n",
       "        4.2e-45, 5.6e-45, 4.2e-45, 2.8e-45, 2.8e-45, 2.8e-45, 5.6e-45,\n",
       "        2.8e-45, 7.0e-45, 4.2e-45, 2.8e-45, 4.2e-45, 7.0e-45, 5.6e-45],\n",
       "       dtype=float32),\n",
       " b'nPrimaries': array([1.e-45, 1.e-45, 1.e-45, 1.e-45, 1.e-45, 1.e-45, 1.e-45, 1.e-45,\n",
       "        3.e-45, 1.e-45, 1.e-45, 1.e-45, 1.e-45, 1.e-45, 1.e-45, 1.e-45,\n",
       "        1.e-45, 1.e-45, 1.e-45, 1.e-45, 1.e-45, 1.e-45, 1.e-45, 1.e-45,\n",
       "        1.e-45, 1.e-45, 1.e-45, 1.e-45, 1.e-45, 1.e-45, 1.e-45, 1.e-45,\n",
       "        1.e-45, 1.e-45, 1.e-45, 1.e-45, 1.e-45, 1.e-45, 1.e-45, 1.e-45,\n",
       "        1.e-45, 1.e-45, 1.e-45, 1.e-45, 1.e-45, 1.e-45, 1.e-45, 1.e-45,\n",
       "        1.e-45, 1.e-45, 3.e-45, 1.e-45, 1.e-45, 1.e-45, 1.e-45, 1.e-45,\n",
       "        1.e-45, 1.e-45, 1.e-45, 1.e-45, 1.e-45, 1.e-45, 1.e-45, 1.e-45,\n",
       "        3.e-45, 1.e-45, 1.e-45, 1.e-45, 1.e-45, 1.e-45, 1.e-45, 1.e-45,\n",
       "        1.e-45, 1.e-45, 1.e-45, 1.e-45, 1.e-45, 1.e-45, 1.e-45, 1.e-45,\n",
       "        1.e-45, 1.e-45, 1.e-45, 1.e-45], dtype=float32),\n",
       " b'nDaughters': <JaggedArray [[0 0 0 0 4] [1 0 1] [0 1] ... [0 0 2] [0 0 0 0 4] [0 0 1 2]] at 0x000102ad2110>,\n",
       " b'particleID': <JaggedArray [[0 1 2 3 4] [0 1 2] [0 1] ... [0 1 2] [0 1 2 3 4] [0 1 2 3]] at 0x0001139faa50>,\n",
       " b'particlePDG': <JaggedArray [[11 13 13 11 12] [13 11 14] [13 14] ... [13 11 14] [13 13 11 11 14] [13 11 11 12]] at 0x0001139ffd50>,\n",
       " b'Lengths': <JaggedArray [[46.78872 25.828798] [16.13307] [6.8328185] ... [16.04804] [38.751694 18.532564] [113.37785]] at 0x0001139ffed0>,\n",
       " b'ValidPoints': <JaggedArray [[176.0 156.0] [99.0] [43.0] ... [66.0] [257.0 100.0] [962.0]] at 0x0001139fff90>,\n",
       " b'CosTheta': <JaggedArray [[0.75512373 0.8953485] [0.10920649] [0.86337644] ... [-0.37591648] [0.9418294 0.42205998] [0.7586244]] at 0x0001139fff50>,\n",
       " b'Phi': <JaggedArray [[-0.11911233 2.7008083] [1.2351865] [2.4097767] ... [2.6452205] [0.4848057 -2.364728] [-1.4158423]] at 0x0001139fff10>,\n",
       " b'StartX': <JaggedArray [[-180.33942 -181.30333] [148.98648] [67.46839] ... [100.33128] [-79.76873 -80.04479] [15.460281]] at 0x0001139ffe90>,\n",
       " b'StartY': <JaggedArray [[80.0566 81.86786] [144.03868] [-199.6801] ... [-121.9194] [-188.01895 -187.96637] [-36.51402]] at 0x0001139ffa50>,\n",
       " b'StartZ': <JaggedArray [[475.30435 476.8262] [226.94334] [29.7986] ... [217.91476] [154.49791 153.43466] [45.338383]] at 0x0001139ff490>,\n",
       " b'EndX': <JaggedArray [[-143.49002 -191.37592] [154.61002] [64.88822] ... [87.14599] [-69.117485 -91.67768] [26.84482]] at 0x0001139ffcd0>,\n",
       " b'EndY': <JaggedArray [[65.63044 86.610855] [159.01628] [-197.3569] ... [-114.72995] [-182.79745 -200.10872] [-95.15594]] at 0x0001139ffd10>,\n",
       " b'EndZ': <JaggedArray [[499.6893 500.13013] [228.99007] [35.683353] ... [212.26315] [191.37169 161.21713] [132.85097]] at 0x0001139ffc50>}"
      ]
     },
     "execution_count": 3,
     "metadata": {},
     "output_type": "execute_result"
    }
   ],
   "source": [
    "tree.keys()\n",
    "tree.arrays()"
   ]
  },
  {
   "cell_type": "markdown",
   "metadata": {},
   "source": [
    "This array is a dictionary with annoying 'b' (byte) at the front. We can remove this by defining the branches as follow"
   ]
  },
  {
   "cell_type": "code",
   "execution_count": 4,
   "metadata": {},
   "outputs": [
    {
     "data": {
      "text/plain": [
       "dict_keys(['eventID', 'nPFParticles', 'nPrimaries', 'nDaughters', 'particleID', 'particlePDG', 'Lengths', 'ValidPoints', 'CosTheta', 'Phi', 'StartX', 'StartY', 'StartZ', 'EndX', 'EndY', 'EndZ'])"
      ]
     },
     "execution_count": 4,
     "metadata": {},
     "output_type": "execute_result"
    }
   ],
   "source": [
    "branches = tree.arrays(namedecode='utf-8')\n",
    "branches.keys()"
   ]
  },
  {
   "cell_type": "code",
   "execution_count": 5,
   "metadata": {},
   "outputs": [
    {
     "name": "stdout",
     "output_type": "stream",
     "text": [
      "eventID branch type: <class 'numpy.ndarray'>\n",
      "StartY branch type: <class 'awkward.array.jagged.JaggedArray'>\n"
     ]
    },
    {
     "data": {
      "text/plain": [
       "<JaggedArray [[80.0566 81.86786] [144.03868] [-199.6801] ... [-121.9194] [-188.01895 -187.96637] [-36.51402]] at 0x000113a18690>"
      ]
     },
     "execution_count": 5,
     "metadata": {},
     "output_type": "execute_result"
    }
   ],
   "source": [
    "print('eventID branch type:', type(branches['eventID']))\n",
    "print('StartY branch type:', type(branches['StartY']))\n",
    "branches['StartY']"
   ]
  },
  {
   "cell_type": "markdown",
   "metadata": {},
   "source": [
    "The eventID branch is a simple numpy array. However, StartY is of another special kind: a jagged array. This is because the number of entries is different for different events.\n",
    "We can look at them anyway! Note that there are square brackets [] surrounding the list of entries for each event. This is basically an array of arrays, or a 2D array. So we can look at the values for the collection of PFParticles of a particular event."
   ]
  },
  {
   "cell_type": "code",
   "execution_count": 6,
   "metadata": {},
   "outputs": [
    {
     "name": "stdout",
     "output_type": "stream",
     "text": [
      "[80.0566  81.86786]\n",
      "[144.03868]\n",
      "[-199.6801]\n",
      "[84.88349  84.823135]\n",
      "[144.36487 162.59413 144.30197 145.04634]\n",
      "[200.03487]\n",
      "[-47.162586]\n",
      "[-122.69484  -124.106544]\n",
      "[123.516205 120.42123  120.727196 122.99127  106.68404 ]\n",
      "[-141.14005]\n"
     ]
    }
   ],
   "source": [
    "for i in range(10):\n",
    "    print(branches['StartY'][i])"
   ]
  },
  {
   "cell_type": "markdown",
   "metadata": {},
   "source": [
    "The branches object that is not convenient for getting information from all branches at once for one particular event. We can get this functionality with a Table. Table is a class in the awkward package that uproot uses to handle jagged arrays. We can create a Table from our branches object:"
   ]
  },
  {
   "cell_type": "code",
   "execution_count": 7,
   "metadata": {},
   "outputs": [
    {
     "name": "stdout",
     "output_type": "stream",
     "text": [
      "[79.36575]\n"
     ]
    }
   ],
   "source": [
    "table = awkward.Table(branches)\n",
    "print(table[5]['StartX'])"
   ]
  },
  {
   "cell_type": "markdown",
   "metadata": {},
   "source": [
    "Now a given event we can see all the PFParticles' information at once for, say, the first event:"
   ]
  },
  {
   "cell_type": "code",
   "execution_count": 8,
   "metadata": {},
   "outputs": [
    {
     "name": "stdout",
     "output_type": "stream",
     "text": [
      "eventID = 1e-45\n",
      "nPFParticles = 7e-45\n",
      "nPrimaries = 1e-45\n",
      "nDaughters = [0 0 0 0 4]\n",
      "particleID = [0 1 2 3 4]\n",
      "particlePDG = [11 13 13 11 12]\n",
      "Lengths = [46.78872  25.828798]\n",
      "ValidPoints = [176. 156.]\n",
      "CosTheta = [0.75512373 0.8953485 ]\n",
      "Phi = [-0.11911233  2.7008083 ]\n",
      "StartX = [-180.33942 -181.30333]\n",
      "StartY = [80.0566  81.86786]\n",
      "StartZ = [475.30435 476.8262 ]\n",
      "EndX = [-143.49002 -191.37592]\n",
      "EndY = [65.63044  86.610855]\n",
      "EndZ = [499.6893  500.13013]\n"
     ]
    }
   ],
   "source": [
    "for column_name in table[0]:\n",
    "    print(column_name, '=', table[0][column_name])"
   ]
  },
  {
   "cell_type": "markdown",
   "metadata": {},
   "source": [
    "## Let's actually plot something\n",
    "\n",
    "### Numpy arrays\n",
    "You will notice that plotting standard arrays is quite straight forward:"
   ]
  },
  {
   "cell_type": "code",
   "execution_count": 9,
   "metadata": {},
   "outputs": [
    {
     "data": {
      "image/png": "[encoded data removed]",
      "text/plain": [
       "<Figure size 432x288 with 1 Axes>"
      ]
     },
     "metadata": {
      "needs_background": "light"
     },
     "output_type": "display_data"
    }
   ],
   "source": [
    "plt.hist(branches['nPFParticles'])\n",
    "plt.xlabel('Number of PFParticles in event')\n",
    "plt.ylabel('Number of events')\n",
    "plt.show()"
   ]
  },
  {
   "cell_type": "markdown",
   "metadata": {},
   "source": [
    "So straight forward that we didn't really have to go through all the hasle above as we could have simply declared a data frame:"
   ]
  },
  {
   "cell_type": "code",
   "execution_count": 24,
   "metadata": {},
   "outputs": [
    {
     "data": {
      "text/plain": [
       "<AxesSubplot:ylabel='Frequency'>"
      ]
     },
     "execution_count": 24,
     "metadata": {},
     "output_type": "execute_result"
    },
    {
     "data": {
      "image/png": "[encoded data removed]",
      "text/plain": [
       "<Figure size 432x288 with 1 Axes>"
      ]
     },
     "metadata": {
      "needs_background": "light"
     },
     "output_type": "display_data"
    }
   ],
   "source": [
    "df_reco = file['ana']['tree'].pandas.df('*', flatten=False)\n",
    "#print(df_reco)\n",
    "df_reco['nPFParticles'].plot.hist()"
   ]
  },
  {
   "cell_type": "markdown",
   "metadata": {},
   "source": [
    "However, neither the branch or the data frame offer a solution for plotting all the PFParticle information. For instance, you'd get an error if you tried doing df_reco['Lenghts'].plot.hist()\n",
    "\n",
    "### Jagged arrays\n",
    "\n",
    "As matplot expects 1D arrays, we'd need to flatten the jagged 2D array into a 1D array. Simply add .flatten() to the branch array:"
   ]
  },
  {
   "cell_type": "code",
   "execution_count": 11,
   "metadata": {},
   "outputs": [
    {
     "data": {
      "image/png": "[encoded data removed]",
      "text/plain": [
       "<Figure size 432x288 with 1 Axes>"
      ]
     },
     "metadata": {
      "needs_background": "light"
     },
     "output_type": "display_data"
    }
   ],
   "source": [
    "plt.hist(branches['StartY'].flatten())\n",
    "plt.xlabel('Start position in the Y coordinate')\n",
    "plt.ylabel('Number of PFParticles')\n",
    "plt.show()"
   ]
  },
  {
   "cell_type": "markdown",
   "metadata": {},
   "source": [
    "## Counting entries\n",
    "\n",
    "All of the following will coincide"
   ]
  },
  {
   "cell_type": "code",
   "execution_count": 13,
   "metadata": {},
   "outputs": [
    {
     "name": "stdout",
     "output_type": "stream",
     "text": [
      "84\n",
      "84\n",
      "84\n",
      "84\n"
     ]
    }
   ],
   "source": [
    "print(len(tree))\n",
    "print(len(table))\n",
    "print(len(branches['nPFParticles']))\n",
    "print(len(branches['StartY']))"
   ]
  },
  {
   "cell_type": "markdown",
   "metadata": {},
   "source": [
    "This is not the total number of PFParticles. If we want the PFParticles:"
   ]
  },
  {
   "cell_type": "code",
   "execution_count": 16,
   "metadata": {},
   "outputs": [
    {
     "data": {
      "text/plain": [
       "122"
      ]
     },
     "execution_count": 16,
     "metadata": {},
     "output_type": "execute_result"
    }
   ],
   "source": [
    "len(branches['StartY'].flatten()) # or any other branch"
   ]
  },
  {
   "cell_type": "markdown",
   "metadata": {},
   "source": [
    "## Selection"
   ]
  },
  {
   "cell_type": "code",
   "execution_count": 19,
   "metadata": {},
   "outputs": [
    {
     "data": {
      "text/plain": [
       "array([False, False, False, False, False, False, False, False, False,\n",
       "       False, False, False, False, False, False, False, False, False,\n",
       "       False, False, False, False, False, False, False, False, False,\n",
       "       False, False, False, False, False, False, False, False, False,\n",
       "       False, False, False, False, False, False, False, False, False,\n",
       "       False, False, False, False, False, False, False, False, False,\n",
       "       False, False, False, False, False, False, False, False, False,\n",
       "       False, False, False, False, False, False, False, False, False,\n",
       "       False, False, False, False, False, False, False, False, False,\n",
       "       False, False, False])"
      ]
     },
     "execution_count": 19,
     "metadata": {},
     "output_type": "execute_result"
    }
   ],
   "source": [
    "branches['nPFParticles'] >= 1"
   ]
  },
  {
   "cell_type": "code",
   "execution_count": 33,
   "metadata": {},
   "outputs": [
    {
     "data": {
      "text/plain": [
       "0"
      ]
     },
     "execution_count": 33,
     "metadata": {},
     "output_type": "execute_result"
    }
   ],
   "source": [
    "reco_pfparticles = branches['nPFParticles'] > 1\n",
    "reco_pfparticles.sum() # summing the events passing the selection"
   ]
  },
  {
   "cell_type": "markdown",
   "metadata": {},
   "source": [
    "We can now use this selection and apply it to our data. For example, I want all the StartY position of all the PFParticles. Therefore, an event should have at least 1 PFParticle. But, for some reason the tree that I made is not counting the PFParticles. As we should expect from above:"
   ]
  },
  {
   "cell_type": "code",
   "execution_count": 36,
   "metadata": {},
   "outputs": [
    {
     "data": {
      "text/plain": [
       "0"
      ]
     },
     "execution_count": 36,
     "metadata": {},
     "output_type": "execute_result"
    }
   ],
   "source": [
    "branches['StartY'][reco_pfparticles]\n",
    "len(branches['StartY'][reco_pfparticles])"
   ]
  },
  {
   "cell_type": "code",
   "execution_count": null,
   "metadata": {},
   "outputs": [],
   "source": []
  }
 ],
 "metadata": {
  "kernelspec": {
   "display_name": "Python 3",
   "language": "python",
   "name": "python3"
  },
  "language_info": {
   "codemirror_mode": {
    "name": "ipython",
    "version": 3
   },
   "file_extension": ".py",
   "mimetype": "text/x-python",
   "name": "python",
   "nbconvert_exporter": "python",
   "pygments_lexer": "ipython3",
   "version": "3.7.6"
  }
 },
 "nbformat": 4,
 "nbformat_minor": 4
}
