{
 "cells": [
  {
   "cell_type": "markdown",
   "metadata": {},
   "source": [
    "# Track reconstruction validation\n",
    "\n",
    "## In this notebook we are going to take the ROOT file produced by the validatetracksjob.fcl and make some plots!\n",
    "\n",
    "Lets start by importing the relevant libraries"
   ]
  },
  {
   "cell_type": "code",
   "execution_count": 1,
   "metadata": {},
   "outputs": [],
   "source": [
    "import pandas as pd\n",
    "import uproot\n",
    "import awkward\n",
    "import matplotlib.pyplot as plt"
   ]
  },
  {
   "cell_type": "markdown",
   "metadata": {},
   "source": [
    "Now, open the file we wish to collect the data from."
   ]
  },
  {
   "cell_type": "code",
   "execution_count": 2,
   "metadata": {},
   "outputs": [
    {
     "name": "stdout",
     "output_type": "stream",
     "text": [
      "Tree name: b'tree'\n",
      "Tree title: b'Analysis Output Tree'\n",
      "Number of entries: 84\n"
     ]
    }
   ],
   "source": [
    "#file = uproot.open('files/validationOutput.root')\n",
    "file = uproot.open('validationoutput_fillall.root')\n",
    "\n",
    "directory = file['ana']\n",
    "tree = directory['tree']\n",
    "print('Tree name:', tree.name)\n",
    "print('Tree title:', tree.title)\n",
    "print('Number of entries:', tree.numentries)"
   ]
  },
  {
   "cell_type": "markdown",
   "metadata": {},
   "source": [
    "Another way to access the tree would be tree = file['ana']['tree'].\n",
    "\n",
    "Once the tree has been identified, we can access its keys, or variables. However, the size of those variables aren't all the same."
   ]
  },
  {
   "cell_type": "code",
   "execution_count": 3,
   "metadata": {},
   "outputs": [
    {
     "data": {
      "text/plain": [
       "{b'eventID': array([  1,   2,   3,   4,   5,   6,   7,   8,   9,  10,  11,  12,  13,\n",
       "         14,  15,  17,  18,  19,  22,  23,  24,  26,  27,  30,  31,  32,\n",
       "         33,  34,  35,  36,  39,  40,  41,  42,  43,  44,  45,  46,  48,\n",
       "         49,  50,  51,  52,  53,  54,  55,  56,  57,  58,  59,  60,  62,\n",
       "         63,  65,  66,  68,  69,  70,  71,  73,  74,  76,  77,  78,  79,\n",
       "         81,  82,  83,  85,  86,  87,  88,  89,  90,  91,  92,  93,  94,\n",
       "         95,  96,  97,  98,  99, 100], dtype=uint32),\n",
       " b'truePDG': <JaggedArray [[13 2212 111 ... 11 11 11] [13 2212 11 ... 11 11 11] [13 2212 111 ... 11 11 11] ... [14 2112 2212 ... 11 11 11] [13 2212 211 ... 11 22 11] [14 2212 111 ... 11 11 11]] at 0x00010bd23dd0>,\n",
       " b'positionT': <JaggedArray [[247.3202478399384 247.3202478399384 247.3202478399384 ... 250.1173452760748 250.21564189940597 249.27770664501375] [342.2506360617737 342.2506360617737 342.26241505930744 ... 364.02569984320075 364.0959489510614 364.6036413907957] [1140.2642506947782 1140.2642506947782 1140.2642506947782 ... 1142.749938920851 1142.8432698362315 1143.3208045332626] ... [513.0302336130541 513.0302336130541 513.0302336130541 ... 524.4025716448177 524.5729678358668 524.7079500583134] [1444.4326421915355 1444.4326421915355 1444.4326421915355 ... 3537.342443367225 3536.6629697568915 3536.6630269103775] [569.9370215011941 569.9370215011941 569.9370215011941 ... 574.5556391493405 574.7023764601344 574.7626893534677]] at 0x00011cde1f90>,\n",
       " b'momentumE': <JaggedArray [[0.46550055054505207 1.3600451442337025 0.18666244355205616 ... 0.000550830906451589 0.0006027554769325185 0.0007890574447139752] [0.1730396288172307 1.021029668452138 0.0008265643265069672 ... 0.0005899762763513445 0.0005373581024869539 0.0005790129273125268] [0.15765854116944872 1.0490639779944415 0.34698147749588726 ... 0.0005715911676010484 0.0006287083327567732 0.000699870179944324] ... [0.67109099233299 1.1711367397650825 1.0623556765084787 ... 0.0008514103084960743 0.0005760120795654539 0.0006133669519384716] [0.42854589672588456 1.2648417025149241 0.35694373670694723 ... 0.0006133697884437665 1.6541543004772985e-05 0.0005243341530047729] [1.2661596404754853 1.1059716399708353 0.8938000041445474 ... 0.0005420408497484998 0.0005391985364452451 0.0006026881962047038]] at 0x00011cde1f50>,\n",
       " b'nPFParticles': array([ 5,  3,  2,  3,  6,  3,  4,  4, 12,  3,  3,  3,  2,  4,  4,  5,  4,\n",
       "         3,  3,  3,  4,  3,  3,  6,  7,  3,  4,  4,  3,  3,  4,  4,  3,  2,\n",
       "         2,  8,  3,  2,  3,  2,  3,  4,  2,  4,  4,  7,  3,  4,  2,  5,  6,\n",
       "         2,  3,  2,  4,  4,  3,  4,  5,  2,  2,  4,  3,  4,  4,  4,  6,  2,\n",
       "         5,  3,  3,  4,  3,  2,  2,  2,  4,  2,  5,  3,  2,  3,  5,  4],\n",
       "       dtype=uint32),\n",
       " b'isPrimary': <JaggedArray [[False False False False True] [False False True] [False True] ... [False False True] [False False False False True] [False False False True]] at 0x00011cde1490>,\n",
       " b'nDaughters': <JaggedArray [[0 0 0 0 4] [1 0 1] [0 1] ... [0 0 2] [0 0 0 0 4] [0 0 1 2]] at 0x00011cde1e50>,\n",
       " b'particleID': <JaggedArray [[0 1 2 3 4] [0 1 2] [0 1] ... [0 1 2] [0 1 2 3 4] [0 1 2 3]] at 0x00011cde3110>,\n",
       " b'particlePDG': <JaggedArray [[11 13 13 11 12] [13 11 14] [13 14] ... [13 11 14] [13 13 11 11 14] [13 11 11 12]] at 0x00011cde3290>,\n",
       " b'Lengths': <JaggedArray [[0.0 46.78872 25.828798 0.0 0.0] [16.13307 0.0 0.0] [6.8328185 0.0] ... [16.04804 0.0 0.0] [38.751694 18.532564 0.0 0.0 0.0] [113.37785 0.0 0.0 0.0]] at 0x00011cde3410>,\n",
       " b'ValidPoints': <JaggedArray [[0.0 176.0 156.0 0.0 0.0] [99.0 0.0 0.0] [43.0 0.0] ... [66.0 0.0 0.0] [257.0 100.0 0.0 0.0 0.0] [962.0 0.0 0.0 0.0]] at 0x00011cde34d0>,\n",
       " b'StartDirPhi': <JaggedArray [[0.0 -0.11911233 2.7008083 0.0 0.0] [1.2351865 0.0 0.0] [2.4097767 0.0] ... [2.6452205 0.0 0.0] [0.4848057 -2.364728 0.0 0.0 0.0] [-1.4158423 0.0 0.0 0.0]] at 0x00011cde3490>,\n",
       " b'StartDirZ': <JaggedArray [[0.0 0.75512373 0.8953484 0.0 0.0] [0.10920649 0.0 0.0] [0.8633765 0.0] ... [-0.37591648 0.0 0.0] [0.94182944 0.42205998 0.0 0.0 0.0] [0.7586244 0.0 0.0 0.0]] at 0x00011cde3450>,\n",
       " b'StartDirMag': <JaggedArray [[0.0 0.99999994 0.99999994 0.0 0.0] [1.0 0.0 0.0] [1.0000001 0.0] ... [1.0000001 0.0 0.0] [1.0000001 0.99999994 0.0 0.0 0.0] [0.99999994 0.0 0.0 0.0]] at 0x00011cde33d0>,\n",
       " b'StartX': <JaggedArray [[0.0 -180.33942 -181.30333 0.0 0.0] [148.98648 0.0 0.0] [67.46839 0.0] ... [100.33128 0.0 0.0] [-79.76873 -80.04479 0.0 0.0 0.0] [15.460281 0.0 0.0 0.0]] at 0x00011cde3210>,\n",
       " b'StartY': <JaggedArray [[0.0 80.0566 81.86786 0.0 0.0] [144.03868 0.0 0.0] [-199.6801 0.0] ... [-121.9194 0.0 0.0] [-188.01895 -187.96637 0.0 0.0 0.0] [-36.51402 0.0 0.0 0.0]] at 0x00011cde3250>,\n",
       " b'StartZ': <JaggedArray [[0.0 475.30435 476.8262 0.0 0.0] [226.94334 0.0 0.0] [29.7986 0.0] ... [217.91476 0.0 0.0] [154.49791 153.43466 0.0 0.0 0.0] [45.338383 0.0 0.0 0.0]] at 0x00011cde3310>,\n",
       " b'EndX': <JaggedArray [[0.0 -143.49002 -191.37592 0.0 0.0] [154.61002 0.0 0.0] [64.88822 0.0] ... [87.14599 0.0 0.0] [-69.117485 -91.67768 0.0 0.0 0.0] [26.84482 0.0 0.0 0.0]] at 0x00011cde3510>,\n",
       " b'EndY': <JaggedArray [[0.0 65.63044 86.610855 0.0 0.0] [159.01628 0.0 0.0] [-197.3569 0.0] ... [-114.72995 0.0 0.0] [-182.79745 -200.10872 0.0 0.0 0.0] [-95.15594 0.0 0.0 0.0]] at 0x00011cde3390>,\n",
       " b'EndZ': <JaggedArray [[0.0 499.6893 500.13013 0.0 0.0] [228.99007 0.0 0.0] [35.683353 0.0] ... [212.26315 0.0 0.0] [191.37169 161.21713 0.0 0.0 0.0] [132.85097 0.0 0.0 0.0]] at 0x00011cde3550>}"
      ]
     },
     "execution_count": 3,
     "metadata": {},
     "output_type": "execute_result"
    }
   ],
   "source": [
    "tree.keys()\n",
    "tree.arrays()"
   ]
  },
  {
   "cell_type": "markdown",
   "metadata": {},
   "source": [
    "This array is a dictionary with annoying 'b' (byte) at the front. We can remove this by defining the branches as follow"
   ]
  },
  {
   "cell_type": "code",
   "execution_count": 4,
   "metadata": {},
   "outputs": [
    {
     "data": {
      "text/plain": [
       "dict_keys(['eventID', 'truePDG', 'positionT', 'momentumE', 'nPFParticles', 'isPrimary', 'nDaughters', 'particleID', 'particlePDG', 'Lengths', 'ValidPoints', 'StartDirPhi', 'StartDirZ', 'StartDirMag', 'StartX', 'StartY', 'StartZ', 'EndX', 'EndY', 'EndZ'])"
      ]
     },
     "execution_count": 4,
     "metadata": {},
     "output_type": "execute_result"
    }
   ],
   "source": [
    "branches = tree.arrays(namedecode='utf-8')\n",
    "branches.keys()"
   ]
  },
  {
   "cell_type": "code",
   "execution_count": 5,
   "metadata": {},
   "outputs": [
    {
     "name": "stdout",
     "output_type": "stream",
     "text": [
      "eventID branch type: <class 'numpy.ndarray'>\n",
      "StartY branch type: <class 'awkward.array.jagged.JaggedArray'>\n"
     ]
    },
    {
     "data": {
      "text/plain": [
       "<JaggedArray [[0.0 80.0566 81.86786 0.0 0.0] [144.03868 0.0 0.0] [-199.6801 0.0] ... [-121.9194 0.0 0.0] [-188.01895 -187.96637 0.0 0.0 0.0] [-36.51402 0.0 0.0 0.0]] at 0x00011ce00090>"
      ]
     },
     "execution_count": 5,
     "metadata": {},
     "output_type": "execute_result"
    }
   ],
   "source": [
    "print('eventID branch type:', type(branches['eventID']))\n",
    "print('StartY branch type:', type(branches['StartY']))\n",
    "branches['StartY']"
   ]
  },
  {
   "cell_type": "markdown",
   "metadata": {},
   "source": [
    "The eventID branch is a simple numpy array. However, StartY is of another special kind: a jagged array. This is because the number of entries is different for different events.\n",
    "We can look at them anyway! Note that there are square brackets [] surrounding the list of entries for each event. This is basically an array of arrays, or a 2D array. So we can look at the values for the collection of PFParticles of a particular event."
   ]
  },
  {
   "cell_type": "code",
   "execution_count": 6,
   "metadata": {},
   "outputs": [
    {
     "name": "stdout",
     "output_type": "stream",
     "text": [
      "[ 0.      80.0566  81.86786  0.       0.     ]\n",
      "[144.03868   0.        0.     ]\n",
      "[-199.6801    0.    ]\n",
      "[84.88349  84.823135  0.      ]\n",
      "[144.36487 162.59413 144.30197 145.04634   0.        0.     ]\n",
      "[200.03487   0.        0.     ]\n",
      "[-47.162586   0.         0.         0.      ]\n",
      "[-122.69484  -124.106544    0.          0.      ]\n",
      "[123.516205 120.42123  120.727196 122.99127  106.68404    0.\n",
      "   0.         0.         0.         0.         0.         0.      ]\n",
      "[   0.      -141.14005    0.     ]\n"
     ]
    }
   ],
   "source": [
    "for i in range(10):\n",
    "    print(branches['StartY'][i])"
   ]
  },
  {
   "cell_type": "markdown",
   "metadata": {},
   "source": [
    "The branches object that is not convenient for getting information from all branches at once for one particular event. We can get this functionality with a Table. Table is a class in the awkward package that uproot uses to handle jagged arrays. We can create a Table from our branches object:"
   ]
  },
  {
   "cell_type": "code",
   "execution_count": 7,
   "metadata": {},
   "outputs": [
    {
     "name": "stdout",
     "output_type": "stream",
     "text": [
      "[79.36575  0.       0.     ]\n"
     ]
    }
   ],
   "source": [
    "table = awkward.Table(branches)\n",
    "print(table[5]['StartX'])"
   ]
  },
  {
   "cell_type": "markdown",
   "metadata": {},
   "source": [
    "Now a given event we can see all the PFParticles' information at once for, say, the first event:"
   ]
  },
  {
   "cell_type": "code",
   "execution_count": 8,
   "metadata": {},
   "outputs": [
    {
     "name": "stdout",
     "output_type": "stream",
     "text": [
      "eventID = 1\n",
      "truePDG = [  13 2212  111   22   22   11   11   11   11   11   11   11   11   11\n",
      "   11   11   11   11   11   11   11   11   11   11   11   11   11   11\n",
      "  -11   22   22   22   22   11   11   11   11   11   11  -11   22   22\n",
      "   11   22   11   22   11   22   22   22   11   22   22   22   22   22\n",
      "   11   11   22   22   11   11   11   11   11   11   11   11   11   11\n",
      "   11   11   11   11   11   11   11   11   11   11   11   11   11   11\n",
      "   11   11   11   11   11   11   11   11   11   11   11   11   11   11\n",
      "   11   11   11   11   11   11   11   11   11   11   11   11   11   11\n",
      "   22   22   22   22   22   11  -12   14   22   22   22   22   22   22\n",
      "   11   11   22   22   11   11   22   11   22   22   22   11   22   11\n",
      "   22   22   22   22   22   11   11   22   22   22   11   22   11   22\n",
      "   22   11   22   22   22   22   22   11   22   11   11   11   11   11\n",
      "   11   11   11   11   11   11   11   11   11   11   11   11   11   11\n",
      "   11   11   22   22   11   11   11   11   11   11   11   11   11   11\n",
      "   11   11   11   11   11   11   22   11   22   11   11   11   11   11\n",
      "   11   11   11   11   11   11   11   11   11   11   11   11   11   11\n",
      "   11   11   11   11   11   11   11   11   11   11   11   11   11   11\n",
      "   11   11   11   11   11   11   11   11   11   11   11   11   11   11\n",
      "   11   11   11   11   11   11   11   11   11   11   11   11   11   11\n",
      "   11   11   11   11   11   11   11   11   11   11   11   11   11   11\n",
      "   11   11   11   11   11   11   11   11   11   11   11   11   11   11\n",
      "   11   11   11   11   11   11   11   11   11   11   11   11   11   11\n",
      "   11   11   11   11   11   11   11   11   11   11   11   11   11   11\n",
      "   11   11   11   22   11   22   11   11   11   22   22   11   11   11\n",
      "   11   11   11   11   11   11   11   11   11   11   11   11   11   11\n",
      "   11   11   11   11   11   11   11   11   11   11]\n",
      "positionT = [247.32024784 247.32024784 247.32024784 247.32024828 247.32024828\n",
      " 247.38312539 247.40086394 247.56975374 247.60654532 247.86510064\n",
      " 247.94694864 248.13827031 248.43551118 248.46305701 248.59096723\n",
      " 248.62300373 248.71782695 249.30675928 249.74067859 249.81393532\n",
      " 249.83387239 249.96521846 250.03249008 250.23007276 250.24136456\n",
      " 250.28153649 250.49258825 247.34574286 247.34574286 247.34639145\n",
      " 247.36105486 247.46554584 247.47223882 247.48281395 247.56916622\n",
      " 247.77013804 247.87801012 248.23765071 247.95540357 247.95540357\n",
      " 248.06436352 248.09582696 248.10449657 248.13580746 248.14604435\n",
      " 248.18626304 248.21432682 248.22349489 248.22349489 247.44049511\n",
      " 247.44944501 247.45636319 247.53310087 247.63684942 247.68640327\n",
      " 247.72629664 247.73193883 247.73311624 247.78398727 247.78398727\n",
      " 247.3226079  247.47248716 247.632286   247.64380765 247.68077661\n",
      " 247.75469842 247.81078158 247.90428261 247.92727162 247.97551823\n",
      " 248.02446383 248.32837879 248.34228593 248.3912504  248.42968151\n",
      " 248.43347992 248.47323975 248.7104137  248.75463218 248.81141119\n",
      " 249.01998415 249.1756703  249.18366525 249.2126532  249.25978262\n",
      " 249.4477274  249.45441143 249.52123463 249.67043381 249.77361732\n",
      " 249.91882072 250.00264002 250.06696283 250.20267601 250.21308765\n",
      " 250.59192244 250.67247488 250.93364268 250.95202876 250.99607238\n",
      " 251.05296835 251.13707599 251.17851849 251.2415383  251.26597911\n",
      " 251.42617049 251.44263491 251.53142843 251.56851403 251.9156035\n",
      " 251.98485325 252.06715164 252.27637801 252.27637801 252.27637801\n",
      " 252.27637801 252.27637801 497.72870022 497.72870022 497.72870022\n",
      " 497.89854875 497.89968276 497.90564484 497.95104906 251.26792303\n",
      " 250.06906975 249.52978999 249.54516037 249.45721415 249.45460015\n",
      " 249.46244135 248.81635061 248.78814021 248.4632598  248.03431296\n",
      " 248.05251484 248.0716353  248.07737538 248.10577796 248.11094512\n",
      " 248.17232281 248.31553255 248.33348975 248.37846419 248.42989925\n",
      " 248.447445   248.51202092 248.52142201 248.59183318 248.60452676\n",
      " 248.60744276 248.70821824 248.74403773 248.75145444 248.878033\n",
      " 248.87940104 248.93507142 248.94353332 248.96524908 248.97842455\n",
      " 249.00998369 249.04856871 248.75044887 248.9150874  249.11746809\n",
      " 249.1773872  249.01143059 248.98660888 249.22923387 249.36492936\n",
      " 249.40598882 249.6088469  249.71975405 249.83918331 248.9365355\n",
      " 248.88239451 249.62700313 250.00522661 250.1314009  250.64786545\n",
      " 250.90632831 251.13806155 251.29656988 249.68037683 249.73040966\n",
      " 249.73902417 249.8886563  249.9314474  248.79099942 248.80517349\n",
      " 249.05632972 249.27013304 248.65392887 248.61311297 248.6347223\n",
      " 249.78381469 250.07198229 250.10267315 250.46913633 250.58738534\n",
      " 250.64461924 251.16806108 250.07221568 249.84917565 249.92244383\n",
      " 249.94085145 250.07228034 248.44780863 248.71991614 249.06251108\n",
      " 249.25949554 249.689394   249.74736447 250.47821138 250.59130669\n",
      " 250.64817976 248.38160965 248.71204932 248.74316948 248.95213217\n",
      " 248.58620944 248.81953624 248.84826414 248.90122949 250.15730639\n",
      " 250.21895164 250.37983697 250.38103744 250.38223803 248.37405574\n",
      " 248.43684759 248.85119675 249.42826873 249.46771947 249.56180681\n",
      " 249.61774382 249.68732192 248.25051689 248.47772378 249.07711468\n",
      " 249.47617175 249.53432279 249.84059369 248.16589062 248.29174382\n",
      " 248.07305945 248.35600356 249.35971845 249.78638075 250.30770739\n",
      " 250.42259674 250.44696562 250.45060042 250.5390878  248.40256634\n",
      " 248.73289894 248.89923567 249.29739515 248.79217541 249.54204279\n",
      " 249.58993209 249.98843815 250.23782679 250.31379344 249.46721578\n",
      " 250.0728671  251.37165474 498.95133669 498.97038092 499.07837877\n",
      " 499.45723649 499.69736577 497.90759505 500.18939797 500.53511468\n",
      " 500.69523976 500.8838118  501.0120797  501.25810158 501.50868438\n",
      " 501.67030329 497.89857659 252.29305949 252.39331925 252.40320212\n",
      " 252.56524974 252.71643012 252.65200397 253.03449183 253.15749523\n",
      " 252.29671549 252.27941226 252.28094974 247.96843552 248.95891643\n",
      " 249.05566241 249.07446776 249.0826941  247.89143963 248.39260018\n",
      " 248.45278204 248.89264729 248.92963446 249.48239603 247.74763105\n",
      " 247.74644744 247.80542151 247.65141332 247.74740639 247.99580883\n",
      " 248.00865365 248.14396782 247.45725589 247.44335987 248.54697005\n",
      " 248.94812944 249.17058579 249.37880049 249.55662871 249.67659329\n",
      " 249.68925817 248.32504233 248.38055414 249.18673998 248.41038269\n",
      " 498.97140931 498.95389631 498.95406493 249.36454539 248.39604533\n",
      " 248.40747287 248.49203816 248.40862339 248.44613403 248.47063184\n",
      " 249.26610115 249.48581495 249.71074244 250.64956072 250.69186467\n",
      " 250.97600396 251.08457821 499.02373881 499.14581181 499.18539499\n",
      " 499.58861058 248.14868726 248.69650003 249.10030792 249.24185981\n",
      " 248.54835878 248.7058553  249.06278056 249.10768835 249.34386657\n",
      " 249.60240917 250.07600276 250.11734528 250.2156419  249.27770665]\n",
      "momentumE = [4.65500551e-01 1.36004514e+00 1.86662444e-01 1.49669871e-01\n",
      " 3.69925730e-02 9.56138274e-04 8.02899960e-04 8.13749612e-04\n",
      " 1.10550800e-03 9.09261112e-04 1.24704419e-03 1.06131930e-03\n",
      " 8.10486100e-04 1.02997813e-03 1.12035727e-03 9.92283875e-04\n",
      " 8.13880689e-04 7.91183382e-04 8.35195187e-04 9.10526079e-04\n",
      " 9.55872977e-04 8.59318651e-04 1.01247689e-03 8.70587567e-04\n",
      " 8.30705280e-04 8.11277132e-04 8.10896388e-04 1.02735911e-02\n",
      " 2.67189819e-02 1.76211724e-04 1.18547088e-05 5.38792597e-05\n",
      " 3.03492495e-05 5.38141860e-04 5.53647852e-04 5.53203559e-04\n",
      " 5.51176907e-04 5.76125600e-04 1.30178691e-01 1.94911794e-02\n",
      " 9.59580890e-04 1.81658909e-04 8.45162979e-04 5.21767449e-04\n",
      " 9.03116591e-04 6.57255101e-05 1.29562362e-03 5.10998910e-04\n",
      " 5.10998910e-04 3.20359646e-05 8.44286373e-04 1.81011477e-05\n",
      " 2.96118072e-04 2.83367310e-05 8.06792761e-05 6.52113159e-05\n",
      " 1.03175404e-03 9.04501556e-04 5.10998910e-04 5.10998910e-04\n",
      " 3.51509734e-03 8.70626225e-04 1.62117699e-03 1.05650482e-03\n",
      " 3.15167562e-03 1.05096301e-03 8.01410602e-04 1.12026566e-03\n",
      " 2.49270617e-03 1.27898251e-03 9.81504230e-04 8.25415684e-04\n",
      " 8.30595586e-04 9.31442603e-04 3.89775371e-03 1.10794378e-03\n",
      " 2.09792338e-03 5.80748100e-03 1.06740504e-03 3.88372663e-03\n",
      " 9.08338827e-04 9.42585021e-04 1.94852316e-03 8.73530363e-04\n",
      " 8.08212146e-04 3.32780678e-03 1.37192408e-03 4.58692195e-03\n",
      " 8.33935687e-04 2.36353453e-03 8.42259259e-04 1.20980410e-03\n",
      " 1.43017908e-03 1.16778203e-03 8.00231881e-04 1.83722184e-03\n",
      " 8.90327986e-04 8.53421143e-04 7.86584716e-04 1.15499008e-03\n",
      " 1.02558251e-03 7.99959348e-04 1.97720614e-03 7.86255941e-04\n",
      " 2.12133941e-03 9.66998171e-04 9.16821661e-04 8.85723476e-04\n",
      " 1.02695339e-03 8.34495963e-04 9.02591385e-04 8.74940105e-04\n",
      " 2.21452826e-05 2.04417993e-05 4.41643812e-05 1.26183946e-04\n",
      " 6.25868897e-04 2.21104508e-02 3.19645176e-02 5.07304031e-02\n",
      " 4.08242700e-05 3.04004652e-03 1.55084044e-05 3.13612464e-03\n",
      " 1.00412871e-04 2.95624328e-05 1.15721071e-03 1.42338217e-03\n",
      " 3.44962883e-05 2.96149152e-04 9.54130634e-04 1.16520822e-03\n",
      " 1.77477310e-05 8.26716191e-04 5.40964621e-04 2.26531309e-02\n",
      " 3.37639331e-05 1.28157013e-03 7.54455450e-05 1.92678182e-03\n",
      " 8.57665075e-04 2.92629451e-03 2.50171584e-03 2.23602510e-04\n",
      " 3.85269548e-04 8.54761532e-04 1.04107508e-03 1.87040561e-02\n",
      " 1.17634580e-04 4.17358029e-05 9.36480159e-04 2.59923528e-04\n",
      " 1.22507563e-03 7.09564820e-03 2.60414195e-05 9.39379298e-04\n",
      " 1.35220680e-05 1.92235628e-04 4.87177026e-05 2.80897099e-05\n",
      " 3.24973605e-05 1.74187260e-03 1.40535276e-04 5.26053879e-04\n",
      " 5.40921664e-04 5.90966283e-04 5.40289970e-04 5.35882320e-04\n",
      " 5.56510313e-04 5.51164501e-04 5.43497584e-04 5.31304299e-04\n",
      " 5.32798281e-04 5.75278511e-04 5.21314678e-04 5.33834029e-04\n",
      " 7.31662527e-03 5.55469186e-04 5.87009354e-04 5.67119552e-04\n",
      " 5.24974699e-04 5.34398058e-04 5.74658991e-04 8.66723287e-04\n",
      " 1.00996879e-04 8.35927797e-05 5.91385390e-04 6.08789489e-04\n",
      " 5.59087802e-04 5.51179696e-04 5.24656312e-04 6.63495007e-04\n",
      " 5.49528413e-04 5.34861840e-04 6.01564261e-04 1.82862747e-02\n",
      " 1.11703085e-03 5.38170841e-04 5.66621835e-04 5.69344564e-04\n",
      " 5.79922279e-04 6.07918942e-04 3.01058473e-05 1.31673042e-03\n",
      " 3.08309417e-05 5.38623552e-04 5.33992757e-04 5.49306213e-04\n",
      " 5.29629769e-04 5.30059267e-04 5.73748775e-04 5.33531818e-04\n",
      " 5.26004263e-04 5.92269899e-04 5.41499106e-04 5.94917472e-04\n",
      " 6.01120658e-04 5.25886527e-04 5.31784869e-04 6.01911982e-04\n",
      " 2.52275575e-03 5.41084822e-04 7.77608305e-04 5.45785971e-04\n",
      " 5.44813490e-04 5.41320312e-04 5.21350649e-04 5.28925721e-04\n",
      " 5.65061535e-04 2.54288526e-03 5.86117192e-04 1.12992170e-03\n",
      " 5.63635514e-04 5.51041653e-04 5.34092688e-04 5.29360423e-04\n",
      " 5.68768555e-04 8.79739879e-04 6.92081494e-04 6.23073593e-04\n",
      " 5.72490910e-04 5.29484556e-04 6.07527854e-04 5.25469835e-04\n",
      " 5.60145651e-04 5.41556543e-04 2.02454873e-02 2.27106791e-03\n",
      " 1.26401947e-03 7.24485442e-04 5.65032405e-04 5.50359306e-04\n",
      " 5.23777330e-04 5.85379680e-04 7.32712970e-04 6.78590081e-04\n",
      " 5.58330210e-04 5.90952969e-04 5.25540341e-04 5.25108997e-04\n",
      " 6.41550991e-04 5.62049137e-04 5.32872318e-04 5.76572003e-04\n",
      " 5.42288898e-04 5.37355043e-04 6.08205481e-04 1.53667611e-03\n",
      " 2.35942214e-03 5.44060353e-04 6.10228561e-04 6.33620032e-04\n",
      " 5.23099368e-04 2.15059177e-03 1.42647820e-03 5.55509747e-04\n",
      " 7.29698793e-04 6.08246260e-04 5.25335626e-04 5.41269656e-04\n",
      " 5.82667864e-04 5.48616880e-04 5.97845672e-04 6.71299251e-04\n",
      " 7.21874714e-04 5.75464421e-04 6.09328752e-04 5.41631932e-04\n",
      " 5.21959270e-04 5.77070272e-04 5.49109296e-04 5.28234409e-04\n",
      " 5.29937893e-04 6.83806335e-04 6.72309995e-04 5.79359712e-04\n",
      " 5.21652826e-04 6.01089390e-04 5.84652908e-04 7.48128470e-04\n",
      " 5.30734940e-04 5.22605451e-04 5.73092360e-04 6.07167414e-04\n",
      " 5.73003926e-04 5.29826425e-04 5.69644371e-04 5.36129341e-04\n",
      " 5.43093778e-04 5.57999004e-04 5.66585581e-04 6.66755129e-04\n",
      " 5.25893758e-04 5.39828575e-04 6.26178844e-04 6.97385608e-04\n",
      " 5.60487527e-04 5.26174895e-04 5.51146294e-04 5.41361567e-04\n",
      " 5.82050244e-04 8.40996872e-04 5.84184524e-04 6.14470681e-04\n",
      " 5.49613228e-04 1.75533426e-04 8.20447330e-04 4.38023112e-05\n",
      " 8.91363345e-04 2.28001595e-03 1.01225917e-03 4.37808124e-03\n",
      " 1.40816941e-04 5.46210521e-04 6.07187939e-04 3.65752761e-03\n",
      " 1.26031883e-03 6.12404385e-04 7.37393462e-04 5.33164291e-04\n",
      " 5.49403343e-04 5.98277212e-04 5.51594921e-04 5.64413282e-04\n",
      " 5.44251671e-04 5.84087525e-04 7.76195999e-04 6.23825011e-04\n",
      " 5.36857852e-04 6.25677927e-04 5.75943813e-04 5.26844084e-04\n",
      " 5.33035667e-04 5.84747755e-04 6.14392789e-04 1.13684346e-03\n",
      " 6.06546503e-04 5.50830906e-04 6.02755477e-04 7.89057445e-04]\n",
      "nPFParticles = 5\n",
      "isPrimary = [False False False False  True]\n",
      "nDaughters = [0 0 0 0 4]\n",
      "particleID = [0 1 2 3 4]\n",
      "particlePDG = [11 13 13 11 12]\n",
      "Lengths = [ 0.       46.78872  25.828798  0.        0.      ]\n",
      "ValidPoints = [  0. 176. 156.   0.   0.]\n",
      "StartDirPhi = [ 0.         -0.11911233  2.7008083   0.          0.        ]\n",
      "StartDirZ = [0.         0.75512373 0.8953484  0.         0.        ]\n",
      "StartDirMag = [0.         0.99999994 0.99999994 0.         0.        ]\n",
      "StartX = [   0.      -180.33942 -181.30333    0.         0.     ]\n",
      "StartY = [ 0.      80.0566  81.86786  0.       0.     ]\n",
      "StartZ = [  0.      475.30435 476.8262    0.        0.     ]\n",
      "EndX = [   0.      -143.49002 -191.37592    0.         0.     ]\n",
      "EndY = [ 0.       65.63044  86.610855  0.        0.      ]\n",
      "EndZ = [  0.      499.6893  500.13013   0.        0.     ]\n"
     ]
    }
   ],
   "source": [
    "for column_name in table[0]:\n",
    "    print(column_name, '=', table[0][column_name])"
   ]
  },
  {
   "cell_type": "markdown",
   "metadata": {},
   "source": [
    "## Let's actually plot something\n",
    "\n",
    "### Numpy arrays\n",
    "You will notice that plotting standard arrays is quite straight forward:"
   ]
  },
  {
   "cell_type": "code",
   "execution_count": 9,
   "metadata": {},
   "outputs": [
    {
     "data": {
      "image/png": "[encoded data removed]",
      "text/plain": [
       "<Figure size 432x288 with 1 Axes>"
      ]
     },
     "metadata": {
      "needs_background": "light"
     },
     "output_type": "display_data"
    }
   ],
   "source": [
    "plt.hist(branches['nPFParticles'])\n",
    "plt.xlabel('Number of PFParticles in event')\n",
    "plt.ylabel('Number of events')\n",
    "plt.show()"
   ]
  },
  {
   "cell_type": "markdown",
   "metadata": {},
   "source": [
    "So straight forward that we didn't really have to go through all the hasle above as we could have simply declared a data frame:"
   ]
  },
  {
   "cell_type": "code",
   "execution_count": 10,
   "metadata": {},
   "outputs": [
    {
     "data": {
      "text/plain": [
       "<AxesSubplot:ylabel='Frequency'>"
      ]
     },
     "execution_count": 10,
     "metadata": {},
     "output_type": "execute_result"
    },
    {
     "data": {
      "image/png": "[encoded data removed]",
      "text/plain": [
       "<Figure size 432x288 with 1 Axes>"
      ]
     },
     "metadata": {
      "needs_background": "light"
     },
     "output_type": "display_data"
    }
   ],
   "source": [
    "df_reco = file['ana']['tree'].pandas.df('*', flatten=False)\n",
    "#print(df_reco)\n",
    "df_reco['nPFParticles'].plot.hist()"
   ]
  },
  {
   "cell_type": "markdown",
   "metadata": {},
   "source": [
    "However, neither the branch or the data frame offer a solution for plotting all the PFParticle information. For instance, you'd get an error if you tried doing df_reco['Lenghts'].plot.hist()\n",
    "\n",
    "### Jagged arrays\n",
    "\n",
    "As matplot expects 1D arrays, we'd need to flatten the jagged 2D array into a 1D array. Simply add .flatten() to the branch array:"
   ]
  },
  {
   "cell_type": "code",
   "execution_count": 11,
   "metadata": {},
   "outputs": [
    {
     "data": {
      "image/png": "[encoded data removed]",
      "text/plain": [
       "<Figure size 432x288 with 1 Axes>"
      ]
     },
     "metadata": {
      "needs_background": "light"
     },
     "output_type": "display_data"
    }
   ],
   "source": [
    "plt.hist(branches['StartY'].flatten())\n",
    "plt.xlabel('Start position in the Y coordinate')\n",
    "plt.ylabel('Number of PFParticles')\n",
    "plt.show()"
   ]
  },
  {
   "cell_type": "markdown",
   "metadata": {},
   "source": [
    "## Counting entries\n",
    "\n",
    "All of the following should coincide"
   ]
  },
  {
   "cell_type": "code",
   "execution_count": 12,
   "metadata": {},
   "outputs": [
    {
     "name": "stdout",
     "output_type": "stream",
     "text": [
      "number of events from\n",
      "len(tree):  84\n",
      "len(table):  84\n",
      "len(branches['nPFParticles']):  84\n",
      "len(branches['StartY']):  84\n"
     ]
    }
   ],
   "source": [
    "print('number of events from')\n",
    "print('len(tree): ', len(tree))\n",
    "print('len(table): ', len(table))\n",
    "print('len(branches[\\'nPFParticles\\']): ', len(branches['nPFParticles']))\n",
    "print('len(branches[\\'StartY\\']): ', len(branches['StartY']))"
   ]
  },
  {
   "cell_type": "markdown",
   "metadata": {},
   "source": [
    "This is not the total number of PFParticles nor the total number of tracks. If we want those variables:"
   ]
  },
  {
   "cell_type": "code",
   "execution_count": 13,
   "metadata": {},
   "outputs": [
    {
     "name": "stdout",
     "output_type": "stream",
     "text": [
      "number or pfparticles: 306\n",
      "number of tracks: 306\n"
     ]
    }
   ],
   "source": [
    "print('number or pfparticles:', sum(branches['nPFParticles']))\n",
    "print('number of tracks:', len(branches['StartY'].flatten())) # or any other branch"
   ]
  },
  {
   "cell_type": "markdown",
   "metadata": {},
   "source": [
    "Note that the number of PFParticles is not the same as tracks. This is because they were either reconstructed as showers or not reconstructed at all."
   ]
  },
  {
   "cell_type": "markdown",
   "metadata": {},
   "source": [
    "## Selection"
   ]
  },
  {
   "cell_type": "markdown",
   "metadata": {},
   "source": [
    "Say we want to only select the events or PFParticles that fullfill certain criteria. \n",
    "Say that we want to select all the events that have at least one PFParticle, and from those, the PFParticles that are reconstructed as a tracks. The way we define we do this is by defining a dataframe:"
   ]
  },
  {
   "cell_type": "code",
   "execution_count": 19,
   "metadata": {},
   "outputs": [
    {
     "data": {
      "text/plain": [
       "<JaggedArray [[False True True False False] [True False False] [True False] ... [True False False] [True True False False False] [True False False False]] at 0x00011d62e9d0>"
      ]
     },
     "execution_count": 19,
     "metadata": {},
     "output_type": "execute_result"
    }
   ],
   "source": [
    "branches['nPFParticles'] >= 1\n",
    "branches['Lengths'] > 0."
   ]
  },
  {
   "cell_type": "code",
   "execution_count": 33,
   "metadata": {},
   "outputs": [
    {
     "data": {
      "text/plain": [
       "84"
      ]
     },
     "execution_count": 33,
     "metadata": {},
     "output_type": "execute_result"
    }
   ],
   "source": [
    "pfparticles_sel = branches['nPFParticles'] > 1\n",
    "pfparticles_sel.sum() # summing the events passing the selection\n",
    "#pfparticles_track_sel = branches['Lengths'] > 0.\n",
    "#pfparticles_track_sel.sum()"
   ]
  },
  {
   "cell_type": "markdown",
   "metadata": {},
   "source": [
    "We can see that all the events have at least one PFParticle. That's not that interesting so let's try something else. I want to know which tracks are longer than 50 cm:"
   ]
  },
  {
   "cell_type": "code",
   "execution_count": 35,
   "metadata": {},
   "outputs": [
    {
     "name": "stdout",
     "output_type": "stream",
     "text": [
      "[[False False False False False] [False False False] [False False] ... [False False False] [False False False False False] [True False False False]]\n"
     ]
    },
    {
     "data": {
      "text/plain": [
       "56"
      ]
     },
     "execution_count": 35,
     "metadata": {},
     "output_type": "execute_result"
    }
   ],
   "source": [
    "longtracks_sel = branches['Lengths'] > 50.\n",
    "print(longtracks_sel)\n",
    "longtracks_sel.flatten().sum()"
   ]
  },
  {
   "cell_type": "markdown",
   "metadata": {},
   "source": [
    "So only 56 out of the 122 tracks are longer than 50 cm. We can now use this selection and apply it to our data. For example, if I want the the start position in the Y direction of those long tracks:"
   ]
  },
  {
   "cell_type": "code",
   "execution_count": 32,
   "metadata": {},
   "outputs": [
    {
     "data": {
      "image/png": "[encoded data removed]",
      "text/plain": [
       "<Figure size 432x288 with 1 Axes>"
      ]
     },
     "metadata": {
      "needs_background": "light"
     },
     "output_type": "display_data"
    }
   ],
   "source": [
    "longtracks_starty = branches['StartY'][longtracks_sel]\n",
    "plt.hist(longtracks_starty.flatten())\n",
    "plt.xlabel('Start position in the Y coordinate (cm)')\n",
    "plt.ylabel('Number of PFParticles')\n",
    "plt.show()"
   ]
  },
  {
   "cell_type": "markdown",
   "metadata": {},
   "source": [
    "That plot surely looks different from the one we created above. Another way to check if we did everything right is by directly looking at the length distribution when using this selection. We should only see lenghts greater than 50 cm plotted:"
   ]
  },
  {
   "cell_type": "code",
   "execution_count": 26,
   "metadata": {},
   "outputs": [
    {
     "data": {
      "image/png": "[encoded data removed]",
      "text/plain": [
       "<Figure size 432x288 with 1 Axes>"
      ]
     },
     "metadata": {
      "needs_background": "light"
     },
     "output_type": "display_data"
    }
   ],
   "source": [
    "longtracks = branches['Lengths'][longtracks_sel]\n",
    "plt.hist(longtracks.flatten())\n",
    "plt.xlabel('Start position in the Y coordinate for long tracks')\n",
    "plt.ylabel('Number of PFParticles')\n",
    "plt.show()"
   ]
  },
  {
   "cell_type": "code",
   "execution_count": null,
   "metadata": {},
   "outputs": [],
   "source": []
  }
 ],
 "metadata": {
  "kernelspec": {
   "display_name": "Python 3",
   "language": "python",
   "name": "python3"
  },
  "language_info": {
   "codemirror_mode": {
    "name": "ipython",
    "version": 3
   },
   "file_extension": ".py",
   "mimetype": "text/x-python",
   "name": "python",
   "nbconvert_exporter": "python",
   "pygments_lexer": "ipython3",
   "version": "3.7.6"
  }
 },
 "nbformat": 4,
 "nbformat_minor": 4
}
